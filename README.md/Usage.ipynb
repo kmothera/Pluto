{
 "cells": [
  {
   "cell_type": "markdown",
   "metadata": {},
   "source": [
    "# README analysis for PLUTO"
   ]
  },
  {
   "cell_type": "markdown",
   "metadata": {},
   "source": [
    "Pluto is a Python package that calculates differential transcript usage using Isoform fractions from Nanopore direct RNA-Seq data.\n"
   ]
  },
  {
   "cell_type": "markdown",
   "metadata": {},
   "source": [
    "Data must first be counted using your preferred method. I suggest using [Oarfish](https://github.com/COMBINE-lab/oarfish). The count data is first TPM normalized using transcript lengths then isoform fractions are calculated across each gene. A statistical test is used to calculate the differences in isoform fractions between the two groups. "
   ]
  },
  {
   "cell_type": "markdown",
   "metadata": {},
   "source": [
    "## USAGE"
   ]
  },
  {
   "cell_type": "markdown",
   "metadata": {},
   "source": [
    "There is a gtf filter script that is provided to filter out single isoform transcripts. This requires a GTF file formatted using GENCODE format specifications. "
   ]
  },
  {
   "cell_type": "markdown",
   "metadata": {},
   "source": [
    "It uses:\n",
    "\n",
    "1. Pandas\n",
    "2. Numpy\n",
    "3. PyRanges library"
   ]
  },
  {
   "cell_type": "markdown",
   "metadata": {},
   "source": [
    "An environment.yml file is provided for this that can be created using conda for ease of use!\n",
    "\n",
    "`conda env create -f environment.yml`\n"
   ]
  },
  {
   "cell_type": "markdown",
   "metadata": {},
   "source": [
    "The dtu.py script can be called in python using the wrapper script. Please make sure the table looks like the example_counts.csv file!"
   ]
  },
  {
   "cell_type": "markdown",
   "metadata": {},
   "source": []
  }
 ],
 "metadata": {
  "kernelspec": {
   "display_name": "Python 3",
   "language": "python",
   "name": "python3"
  },
  "language_info": {
   "name": "python",
   "version": "3.11.6"
  }
 },
 "nbformat": 4,
 "nbformat_minor": 2
}
